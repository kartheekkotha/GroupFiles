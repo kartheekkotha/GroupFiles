{
  "cells": [
    {
      "cell_type": "markdown",
      "metadata": {
        "id": "view-in-github",
        "colab_type": "text"
      },
      "source": [
        "<a href=\"https://colab.research.google.com/github/kartheekkotha/GroupFiles/blob/main/groupFiles.ipynb\" target=\"_parent\"><img src=\"https://colab.research.google.com/assets/colab-badge.svg\" alt=\"Open In Colab\"/></a>"
      ]
    },
    {
      "cell_type": "code",
      "execution_count": null,
      "id": "bae744ad",
      "metadata": {
        "id": "bae744ad"
      },
      "outputs": [],
      "source": [
        "import os"
      ]
    },
    {
      "cell_type": "code",
      "execution_count": null,
      "id": "fc1248d0",
      "metadata": {
        "id": "fc1248d0",
        "outputId": "1e9a5e97-730c-44b6-80b3-d3497d0b7895"
      },
      "outputs": [
        {
          "name": "stdout",
          "output_type": "stream",
          "text": [
            "Give the directory of all the files: E:\\groupFiles\n"
          ]
        }
      ],
      "source": [
        "#Getting the directory to work on it\n",
        "directory = str(input(\"Give the directory of all the files: \"))"
      ]
    },
    {
      "cell_type": "code",
      "execution_count": null,
      "id": "f145d054",
      "metadata": {
        "id": "f145d054",
        "outputId": "120ced46-9715-43b3-af24-d0839a1ba614"
      },
      "outputs": [
        {
          "name": "stdout",
          "output_type": "stream",
          "text": [
            "Total Number of files are: 15\n"
          ]
        }
      ],
      "source": [
        "print(f\"Total Number of files are: { len(os.listdir(directory))}\")"
      ]
    },
    {
      "cell_type": "markdown",
      "id": "c6093a11",
      "metadata": {
        "id": "c6093a11"
      },
      "source": [
        "In the next step we are finding the unique extensions and saving them in the dictonary with the count of that extension"
      ]
    },
    {
      "cell_type": "code",
      "execution_count": null,
      "id": "b21702d3",
      "metadata": {
        "id": "b21702d3",
        "outputId": "60988149-b1a1-49b9-dfad-f40914019863"
      },
      "outputs": [
        {
          "name": "stdout",
          "output_type": "stream",
          "text": [
            ".c: 3\n",
            ".ipynb: 1\n",
            ".pptx: 1\n",
            ".docx: 1\n",
            ".py: 5\n",
            ".txt: 2\n",
            ".png: 1\n"
          ]
        }
      ],
      "source": [
        "dict = {}\n",
        "for filename in os.listdir(directory):\n",
        "    nameFile , extension = os.path.splitext(filename)\n",
        "    if(os.path.isfile(os.path.join(directory,filename))):\n",
        "        if(extension in dict):\n",
        "            dict[extension]+=1\n",
        "        else:\n",
        "            dict[extension] = 1\n",
        "#Printing thr dictonary dict\n",
        "for i in dict:\n",
        "    print(str(i) + \": \" + str(dict[i]))"
      ]
    },
    {
      "cell_type": "markdown",
      "id": "231be4dc",
      "metadata": {
        "id": "231be4dc"
      },
      "source": [
        "Making the Directories of the each type of the extension with the name of that extension"
      ]
    },
    {
      "cell_type": "code",
      "execution_count": null,
      "id": "2abcfb5a",
      "metadata": {
        "id": "2abcfb5a"
      },
      "outputs": [],
      "source": [
        "for newName in dict:\n",
        "    path = os.path.join(directory , newName)\n",
        "    if(os.path.exists(path)):\n",
        "        pass\n",
        "    else:\n",
        "        os.mkdir(path)"
      ]
    },
    {
      "cell_type": "markdown",
      "id": "5a610f6e",
      "metadata": {
        "id": "5a610f6e"
      },
      "source": [
        "Mapping the file extension with the folder and moving that file into that specific folder\n",
        "\n",
        "Also checking if the file exists or the folder with that extension exits or not"
      ]
    },
    {
      "cell_type": "code",
      "execution_count": null,
      "id": "2e32e655",
      "metadata": {
        "id": "2e32e655"
      },
      "outputs": [],
      "source": [
        "for file in os.listdir(directory):\n",
        "    if(file in dict):\n",
        "        pass\n",
        "    else:\n",
        "        fileExtension = os.path.splitext(file)[1]\n",
        "        newPath = os.path.join(directory , fileExtension)\n",
        "        if(os.path.exists(newPath)):\n",
        "            if(os.path.exists(newPath+file)):\n",
        "                pass\n",
        "            else:\n",
        "                scr_path = os.path.join(directory,file)\n",
        "                dst_path = os.path.join(newPath,file)\n",
        "                os.rename(scr_path , dst_path)\n",
        "        else:\n",
        "            print(\"Error\")\n",
        "            break"
      ]
    },
    {
      "cell_type": "code",
      "execution_count": null,
      "id": "cab95fc0",
      "metadata": {
        "id": "cab95fc0",
        "outputId": "3dfaee96-26f4-40b6-e32d-ac61018a1a8f"
      },
      "outputs": [
        {
          "name": "stdout",
          "output_type": "stream",
          "text": [
            "Number of elements in the folder .c is: 3\tCount in dictonary : 3\n",
            "Number of elements in the folder .ipynb is: 1\tCount in dictonary : 1\n",
            "Number of elements in the folder .pptx is: 1\tCount in dictonary : 1\n",
            "Number of elements in the folder .docx is: 1\tCount in dictonary : 1\n",
            "Number of elements in the folder .py is: 5\tCount in dictonary : 5\n",
            "Number of elements in the folder .txt is: 2\tCount in dictonary : 2\n",
            "Number of elements in the folder .png is: 1\tCount in dictonary : 1\n"
          ]
        }
      ],
      "source": [
        "for i in dict:\n",
        "    newPath = os.path.join(directory,i)\n",
        "    print(f\"Number of elements in the folder {i} is: {len(os.listdir(newPath))}\\tCount in dictonary : {dict[i]}\")"
      ]
    }
  ],
  "metadata": {
    "kernelspec": {
      "display_name": "Python 3 (ipykernel)",
      "language": "python",
      "name": "python3"
    },
    "language_info": {
      "codemirror_mode": {
        "name": "ipython",
        "version": 3
      },
      "file_extension": ".py",
      "mimetype": "text/x-python",
      "name": "python",
      "nbconvert_exporter": "python",
      "pygments_lexer": "ipython3",
      "version": "3.9.13"
    },
    "colab": {
      "provenance": [],
      "include_colab_link": true
    }
  },
  "nbformat": 4,
  "nbformat_minor": 5
}